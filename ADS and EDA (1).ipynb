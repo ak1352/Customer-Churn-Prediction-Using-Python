{
 "cells": [
  {
   "cell_type": "code",
   "execution_count": 20,
   "metadata": {},
   "outputs": [],
   "source": [
    "import pandas as pd\n",
    "import numpy as np\n",
    "import matplotlib.pyplot as plt\n",
    "import seaborn as sns\n",
    "import datetime"
   ]
  },
  {
   "cell_type": "code",
   "execution_count": 2,
   "metadata": {},
   "outputs": [],
   "source": [
    "data=pd.read_csv('Customer_Sales_Transactional_Data_CSV.txt')"
   ]
  },
  {
   "cell_type": "code",
   "execution_count": 3,
   "metadata": {},
   "outputs": [],
   "source": [
    "df=data.copy()"
   ]
  },
  {
   "cell_type": "code",
   "execution_count": 4,
   "metadata": {},
   "outputs": [],
   "source": [
    "chicago_areas = ['Chicago-Aurora-Elgin-Joliet-Waukegan','Round Lake Beach-McHenry-Grayslake',\n",
    "                'Kenosha, WI','Michigan City-LaPorte, IN-MI',\n",
    "                'Kankakee-Bradley-Bourbonnais, IL',\n",
    "                'DeKalb-Sycamore, IL','Woodstock, IL',\n",
    "                'Morris, IL','Sandwich, IL',\n",
    "                'Braidwood-Coal City, IL','Harvard, IL',\n",
    "                'Lakes of the Four Seasons, IN','Lowell, IN',\n",
    "                'Wilmington, IL','Manteno, IL',\n",
    "                'Marengo, IL','Rensselaer, IN','Plano, IL','Genoa, IL',\n",
    "                'Genoa City, WI-IL','Westville, IN','Hebron, IN','Momence, IL',\n",
    "                'Peotone, IL','Wonder Lake, IL','Monee, IL','Union Township, Porter County, IN',\n",
    "                'Hampshire, IL']"
   ]
  },
  {
   "cell_type": "code",
   "execution_count": 21,
   "metadata": {
    "scrolled": false
   },
   "outputs": [
    {
     "data": {
      "text/html": [
       "<div>\n",
       "<style scoped>\n",
       "    .dataframe tbody tr th:only-of-type {\n",
       "        vertical-align: middle;\n",
       "    }\n",
       "\n",
       "    .dataframe tbody tr th {\n",
       "        vertical-align: top;\n",
       "    }\n",
       "\n",
       "    .dataframe thead th {\n",
       "        text-align: right;\n",
       "    }\n",
       "</style>\n",
       "<table border=\"1\" class=\"dataframe\">\n",
       "  <thead>\n",
       "    <tr style=\"text-align: right;\">\n",
       "      <th></th>\n",
       "      <th>SalesDate</th>\n",
       "      <th>CoustomerId</th>\n",
       "      <th>SalesAmount</th>\n",
       "      <th>area</th>\n",
       "      <th>Year</th>\n",
       "      <th>Day</th>\n",
       "      <th>Month</th>\n",
       "      <th>weeks</th>\n",
       "    </tr>\n",
       "  </thead>\n",
       "  <tbody>\n",
       "    <tr>\n",
       "      <th>0</th>\n",
       "      <td>10/18/2014</td>\n",
       "      <td>34810920</td>\n",
       "      <td>205.44</td>\n",
       "      <td>Wonder Lake, IL</td>\n",
       "      <td>2014</td>\n",
       "      <td>18</td>\n",
       "      <td>10</td>\n",
       "      <td>42</td>\n",
       "    </tr>\n",
       "    <tr>\n",
       "      <th>1</th>\n",
       "      <td>9/22/2014</td>\n",
       "      <td>1026037818</td>\n",
       "      <td>51.36</td>\n",
       "      <td>Westville, IN</td>\n",
       "      <td>2014</td>\n",
       "      <td>22</td>\n",
       "      <td>9</td>\n",
       "      <td>39</td>\n",
       "    </tr>\n",
       "    <tr>\n",
       "      <th>2</th>\n",
       "      <td>9/30/2014</td>\n",
       "      <td>1095693062</td>\n",
       "      <td>222.56</td>\n",
       "      <td>Westville, IN</td>\n",
       "      <td>2014</td>\n",
       "      <td>30</td>\n",
       "      <td>9</td>\n",
       "      <td>40</td>\n",
       "    </tr>\n",
       "    <tr>\n",
       "      <th>3</th>\n",
       "      <td>10/25/2014</td>\n",
       "      <td>15142688</td>\n",
       "      <td>171.20</td>\n",
       "      <td>Chicago-Aurora-Elgin-Joliet-Waukegan</td>\n",
       "      <td>2014</td>\n",
       "      <td>25</td>\n",
       "      <td>10</td>\n",
       "      <td>43</td>\n",
       "    </tr>\n",
       "    <tr>\n",
       "      <th>4</th>\n",
       "      <td>10/18/2014</td>\n",
       "      <td>1022245368</td>\n",
       "      <td>171.20</td>\n",
       "      <td>Lakes of the Four Seasons, IN</td>\n",
       "      <td>2014</td>\n",
       "      <td>18</td>\n",
       "      <td>10</td>\n",
       "      <td>42</td>\n",
       "    </tr>\n",
       "  </tbody>\n",
       "</table>\n",
       "</div>"
      ],
      "text/plain": [
       "    SalesDate  CoustomerId  SalesAmount                                  area  \\\n",
       "0  10/18/2014     34810920       205.44                       Wonder Lake, IL   \n",
       "1   9/22/2014   1026037818        51.36                         Westville, IN   \n",
       "2   9/30/2014   1095693062       222.56                         Westville, IN   \n",
       "3  10/25/2014     15142688       171.20  Chicago-Aurora-Elgin-Joliet-Waukegan   \n",
       "4  10/18/2014   1022245368       171.20         Lakes of the Four Seasons, IN   \n",
       "\n",
       "   Year  Day  Month  weeks  \n",
       "0  2014   18     10     42  \n",
       "1  2014   22      9     39  \n",
       "2  2014   30      9     40  \n",
       "3  2014   25     10     43  \n",
       "4  2014   18     10     42  "
      ]
     },
     "execution_count": 21,
     "metadata": {},
     "output_type": "execute_result"
    }
   ],
   "source": [
    "df.head()"
   ]
  },
  {
   "cell_type": "code",
   "execution_count": 6,
   "metadata": {},
   "outputs": [
    {
     "data": {
      "text/plain": [
       "(1058198, 3)"
      ]
     },
     "execution_count": 6,
     "metadata": {},
     "output_type": "execute_result"
    }
   ],
   "source": [
    "df.shape"
   ]
  },
  {
   "cell_type": "code",
   "execution_count": 7,
   "metadata": {},
   "outputs": [],
   "source": [
    "df[\"area\"] = np.random.choice(chicago_areas, size=len(df))"
   ]
  },
  {
   "cell_type": "code",
   "execution_count": 8,
   "metadata": {},
   "outputs": [
    {
     "data": {
      "text/html": [
       "<div>\n",
       "<style scoped>\n",
       "    .dataframe tbody tr th:only-of-type {\n",
       "        vertical-align: middle;\n",
       "    }\n",
       "\n",
       "    .dataframe tbody tr th {\n",
       "        vertical-align: top;\n",
       "    }\n",
       "\n",
       "    .dataframe thead th {\n",
       "        text-align: right;\n",
       "    }\n",
       "</style>\n",
       "<table border=\"1\" class=\"dataframe\">\n",
       "  <thead>\n",
       "    <tr style=\"text-align: right;\">\n",
       "      <th></th>\n",
       "      <th>SALES_dATE</th>\n",
       "      <th>CUSTOMER_ID</th>\n",
       "      <th>SALES_AMOUNT</th>\n",
       "      <th>area</th>\n",
       "    </tr>\n",
       "  </thead>\n",
       "  <tbody>\n",
       "    <tr>\n",
       "      <th>0</th>\n",
       "      <td>10/18/2014</td>\n",
       "      <td>34810920</td>\n",
       "      <td>205.44</td>\n",
       "      <td>Wonder Lake, IL</td>\n",
       "    </tr>\n",
       "    <tr>\n",
       "      <th>1</th>\n",
       "      <td>9/22/2014</td>\n",
       "      <td>1026037818</td>\n",
       "      <td>51.36</td>\n",
       "      <td>Westville, IN</td>\n",
       "    </tr>\n",
       "    <tr>\n",
       "      <th>2</th>\n",
       "      <td>9/30/2014</td>\n",
       "      <td>1095693062</td>\n",
       "      <td>222.56</td>\n",
       "      <td>Westville, IN</td>\n",
       "    </tr>\n",
       "    <tr>\n",
       "      <th>3</th>\n",
       "      <td>10/25/2014</td>\n",
       "      <td>15142688</td>\n",
       "      <td>171.20</td>\n",
       "      <td>Chicago-Aurora-Elgin-Joliet-Waukegan</td>\n",
       "    </tr>\n",
       "    <tr>\n",
       "      <th>4</th>\n",
       "      <td>10/18/2014</td>\n",
       "      <td>1022245368</td>\n",
       "      <td>171.20</td>\n",
       "      <td>Lakes of the Four Seasons, IN</td>\n",
       "    </tr>\n",
       "  </tbody>\n",
       "</table>\n",
       "</div>"
      ],
      "text/plain": [
       "   SALES_dATE  CUSTOMER_ID  SALES_AMOUNT                                  area\n",
       "0  10/18/2014     34810920        205.44                       Wonder Lake, IL\n",
       "1   9/22/2014   1026037818         51.36                         Westville, IN\n",
       "2   9/30/2014   1095693062        222.56                         Westville, IN\n",
       "3  10/25/2014     15142688        171.20  Chicago-Aurora-Elgin-Joliet-Waukegan\n",
       "4  10/18/2014   1022245368        171.20         Lakes of the Four Seasons, IN"
      ]
     },
     "execution_count": 8,
     "metadata": {},
     "output_type": "execute_result"
    }
   ],
   "source": [
    "df.head()"
   ]
  },
  {
   "cell_type": "code",
   "execution_count": 10,
   "metadata": {},
   "outputs": [],
   "source": [
    "df.columns=['SalesDate','CoustomerId','SalesAmount','area']"
   ]
  },
  {
   "cell_type": "code",
   "execution_count": 11,
   "metadata": {},
   "outputs": [],
   "source": [
    "df['Year'] = pd.DatetimeIndex(df['SalesDate']).year\n"
   ]
  },
  {
   "cell_type": "code",
   "execution_count": 12,
   "metadata": {},
   "outputs": [],
   "source": [
    "df['Day'] = pd.DatetimeIndex(df['SalesDate']).day\n",
    "df['Month'] = pd.DatetimeIndex(df['SalesDate']).month"
   ]
  },
  {
   "cell_type": "code",
   "execution_count": 13,
   "metadata": {},
   "outputs": [],
   "source": [
    "weeks=[]\n",
    "for i in range(1058198):\n",
    "    weeks.append(datetime.date(df.loc[i,'Year'],df.loc[i,'Month'],df.loc[i,'Day']).isocalendar()[1])"
   ]
  },
  {
   "cell_type": "code",
   "execution_count": 14,
   "metadata": {},
   "outputs": [],
   "source": [
    "df['weeks']=weeks"
   ]
  },
  {
   "cell_type": "code",
   "execution_count": 15,
   "metadata": {},
   "outputs": [
    {
     "data": {
      "text/html": [
       "<div>\n",
       "<style scoped>\n",
       "    .dataframe tbody tr th:only-of-type {\n",
       "        vertical-align: middle;\n",
       "    }\n",
       "\n",
       "    .dataframe tbody tr th {\n",
       "        vertical-align: top;\n",
       "    }\n",
       "\n",
       "    .dataframe thead th {\n",
       "        text-align: right;\n",
       "    }\n",
       "</style>\n",
       "<table border=\"1\" class=\"dataframe\">\n",
       "  <thead>\n",
       "    <tr style=\"text-align: right;\">\n",
       "      <th></th>\n",
       "      <th>SalesDate</th>\n",
       "      <th>CoustomerId</th>\n",
       "      <th>SalesAmount</th>\n",
       "      <th>area</th>\n",
       "      <th>Year</th>\n",
       "      <th>Day</th>\n",
       "      <th>Month</th>\n",
       "      <th>weeks</th>\n",
       "    </tr>\n",
       "  </thead>\n",
       "  <tbody>\n",
       "    <tr>\n",
       "      <th>0</th>\n",
       "      <td>10/18/2014</td>\n",
       "      <td>34810920</td>\n",
       "      <td>205.44</td>\n",
       "      <td>Wonder Lake, IL</td>\n",
       "      <td>2014</td>\n",
       "      <td>18</td>\n",
       "      <td>10</td>\n",
       "      <td>42</td>\n",
       "    </tr>\n",
       "    <tr>\n",
       "      <th>1</th>\n",
       "      <td>9/22/2014</td>\n",
       "      <td>1026037818</td>\n",
       "      <td>51.36</td>\n",
       "      <td>Westville, IN</td>\n",
       "      <td>2014</td>\n",
       "      <td>22</td>\n",
       "      <td>9</td>\n",
       "      <td>39</td>\n",
       "    </tr>\n",
       "    <tr>\n",
       "      <th>2</th>\n",
       "      <td>9/30/2014</td>\n",
       "      <td>1095693062</td>\n",
       "      <td>222.56</td>\n",
       "      <td>Westville, IN</td>\n",
       "      <td>2014</td>\n",
       "      <td>30</td>\n",
       "      <td>9</td>\n",
       "      <td>40</td>\n",
       "    </tr>\n",
       "    <tr>\n",
       "      <th>3</th>\n",
       "      <td>10/25/2014</td>\n",
       "      <td>15142688</td>\n",
       "      <td>171.20</td>\n",
       "      <td>Chicago-Aurora-Elgin-Joliet-Waukegan</td>\n",
       "      <td>2014</td>\n",
       "      <td>25</td>\n",
       "      <td>10</td>\n",
       "      <td>43</td>\n",
       "    </tr>\n",
       "    <tr>\n",
       "      <th>4</th>\n",
       "      <td>10/18/2014</td>\n",
       "      <td>1022245368</td>\n",
       "      <td>171.20</td>\n",
       "      <td>Lakes of the Four Seasons, IN</td>\n",
       "      <td>2014</td>\n",
       "      <td>18</td>\n",
       "      <td>10</td>\n",
       "      <td>42</td>\n",
       "    </tr>\n",
       "  </tbody>\n",
       "</table>\n",
       "</div>"
      ],
      "text/plain": [
       "    SalesDate  CoustomerId  SalesAmount                                  area  \\\n",
       "0  10/18/2014     34810920       205.44                       Wonder Lake, IL   \n",
       "1   9/22/2014   1026037818        51.36                         Westville, IN   \n",
       "2   9/30/2014   1095693062       222.56                         Westville, IN   \n",
       "3  10/25/2014     15142688       171.20  Chicago-Aurora-Elgin-Joliet-Waukegan   \n",
       "4  10/18/2014   1022245368       171.20         Lakes of the Four Seasons, IN   \n",
       "\n",
       "   Year  Day  Month  weeks  \n",
       "0  2014   18     10     42  \n",
       "1  2014   22      9     39  \n",
       "2  2014   30      9     40  \n",
       "3  2014   25     10     43  \n",
       "4  2014   18     10     42  "
      ]
     },
     "execution_count": 15,
     "metadata": {},
     "output_type": "execute_result"
    }
   ],
   "source": [
    "df.head()"
   ]
  },
  {
   "cell_type": "code",
   "execution_count": 22,
   "metadata": {},
   "outputs": [
    {
     "name": "stderr",
     "output_type": "stream",
     "text": [
      "/home/jupyterlab/conda/lib/python3.6/site-packages/ipykernel_launcher.py:2: FutureWarning: using a dict on a Series for aggregation\n",
      "is deprecated and will be removed in a future version\n",
      "  \n"
     ]
    }
   ],
   "source": [
    "Week_1=df[df['weeks']==38]\n",
    "Week_1=Week_1.groupby('CoustomerId')['SalesAmount'].agg({'Statistical Measures':[np.mean,np.min,np.max,np.count_nonzero,np.std,np.sum]})\n",
    "Week_1.columns=['Mean','Max','Min','Count','StandardDeviation','Total']\n",
    "Week_1=Week_1.reset_index()"
   ]
  },
  {
   "cell_type": "code",
   "execution_count": 23,
   "metadata": {},
   "outputs": [
    {
     "name": "stderr",
     "output_type": "stream",
     "text": [
      "/home/jupyterlab/conda/lib/python3.6/site-packages/ipykernel_launcher.py:2: FutureWarning: using a dict on a Series for aggregation\n",
      "is deprecated and will be removed in a future version\n",
      "  \n"
     ]
    }
   ],
   "source": [
    "Week_2=df[df['weeks']==39]\n",
    "Week_2=Week_2.groupby('CoustomerId')['SalesAmount'].agg({'Statistical Measures':[np.mean,np.min,np.max,np.count_nonzero,np.std,np.sum]})\n",
    "Week_2.columns=['Mean','Max','Min','Count','StandardDeviation','Total']\n",
    "Week_2=Week_2.reset_index()"
   ]
  },
  {
   "cell_type": "code",
   "execution_count": 24,
   "metadata": {},
   "outputs": [
    {
     "name": "stderr",
     "output_type": "stream",
     "text": [
      "/home/jupyterlab/conda/lib/python3.6/site-packages/ipykernel_launcher.py:2: FutureWarning: using a dict on a Series for aggregation\n",
      "is deprecated and will be removed in a future version\n",
      "  \n"
     ]
    }
   ],
   "source": [
    "Week_3=df[df['weeks']==40]\n",
    "Week_3=Week_3.groupby('CoustomerId')['SalesAmount'].agg({'Statistical Measures':[np.mean,np.min,np.max,np.count_nonzero,np.std,np.sum]})\n",
    "Week_3.columns=['Mean','Max','Min','Count','StandardDeviation','Total']\n",
    "Week_3=Week_3.reset_index()"
   ]
  },
  {
   "cell_type": "code",
   "execution_count": 25,
   "metadata": {},
   "outputs": [
    {
     "name": "stderr",
     "output_type": "stream",
     "text": [
      "/home/jupyterlab/conda/lib/python3.6/site-packages/ipykernel_launcher.py:2: FutureWarning: using a dict on a Series for aggregation\n",
      "is deprecated and will be removed in a future version\n",
      "  \n"
     ]
    }
   ],
   "source": [
    "Week_4=df[df['weeks']==41]\n",
    "Week_4=Week_4.groupby('CoustomerId')['SalesAmount'].agg({'Statistical Measures':[np.mean,np.min,np.max,np.count_nonzero,np.std,np.sum]})\n",
    "Week_4.columns=['Mean','Max','Min','Count','StandardDeviation','Total']\n",
    "Week_4=Week_4.reset_index()"
   ]
  },
  {
   "cell_type": "code",
   "execution_count": 26,
   "metadata": {},
   "outputs": [
    {
     "name": "stderr",
     "output_type": "stream",
     "text": [
      "/home/jupyterlab/conda/lib/python3.6/site-packages/ipykernel_launcher.py:2: FutureWarning: using a dict on a Series for aggregation\n",
      "is deprecated and will be removed in a future version\n",
      "  \n"
     ]
    }
   ],
   "source": [
    "Week_5=df[df['weeks']==42]\n",
    "Week_5=Week_5.groupby('CoustomerId')['SalesAmount'].agg({'Statistical Measures':[np.mean,np.min,np.max,np.count_nonzero,np.std,np.sum]})\n",
    "Week_5.columns=['Mean','Max','Min','Count','StandardDeviation','Total']\n",
    "Week_5=Week_5.reset_index()"
   ]
  },
  {
   "cell_type": "code",
   "execution_count": 27,
   "metadata": {},
   "outputs": [
    {
     "name": "stderr",
     "output_type": "stream",
     "text": [
      "/home/jupyterlab/conda/lib/python3.6/site-packages/ipykernel_launcher.py:2: FutureWarning: using a dict on a Series for aggregation\n",
      "is deprecated and will be removed in a future version\n",
      "  \n"
     ]
    }
   ],
   "source": [
    "Week_6=df[df['weeks']==43]\n",
    "Week_6=Week_6.groupby('CoustomerId')['SalesAmount'].agg({'Statistical Measures':[np.mean,np.min,np.max,np.count_nonzero,np.std,np.sum]})\n",
    "Week_6.columns=['Mean','Max','Min','Count','StandardDeviation','Total']\n",
    "Week_6=Week_6.reset_index()"
   ]
  },
  {
   "cell_type": "code",
   "execution_count": 34,
   "metadata": {},
   "outputs": [],
   "source": [
    "Week_0_5=Week_1.merge(Week_2,on='CoustomerId',how='outer').merge(Week_3,on='CoustomerId',how='outer').merge(Week_4,on='CoustomerId',how='outer').merge(Week_5,on='CoustomerId',how='outer')"
   ]
  },
  {
   "cell_type": "code",
   "execution_count": 35,
   "metadata": {},
   "outputs": [
    {
     "data": {
      "text/plain": [
       "Index(['CoustomerId', 'Mean_x', 'Max_x', 'Min_x', 'Count_x',\n",
       "       'StandardDeviation_x', 'Total_x', 'Mean_y', 'Max_y', 'Min_y', 'Count_y',\n",
       "       'StandardDeviation_y', 'Total_y', 'Mean_x', 'Max_x', 'Min_x', 'Count_x',\n",
       "       'StandardDeviation_x', 'Total_x', 'Mean_y', 'Max_y', 'Min_y', 'Count_y',\n",
       "       'StandardDeviation_y', 'Total_y', 'Mean', 'Max', 'Min', 'Count',\n",
       "       'StandardDeviation', 'Total'],\n",
       "      dtype='object')"
      ]
     },
     "execution_count": 35,
     "metadata": {},
     "output_type": "execute_result"
    }
   ],
   "source": [
    "Week_0_5.columns"
   ]
  },
  {
   "cell_type": "code",
   "execution_count": 30,
   "metadata": {},
   "outputs": [],
   "source": [
    "Week_0_5.columns=['CustomerId','Mean_1','Max_1','Min_1','Count_1','StandardDeviation_1','Revenue_1','Mean_2','Max_2','Min_2','Count_2','StandardDeviation_2','Revenue_2','Mean_3','Max_3','Min_3','Count_3','StandardDeviation_3','Revenue_3','Mean_4','Max_4','Min_4','Count_4','StandardDeviation_4','Revenue_4','Mean_5','Max_5','Min_5','Count_5','StandardDeviation_5','Revenue_5']"
   ]
  },
  {
   "cell_type": "code",
   "execution_count": 31,
   "metadata": {},
   "outputs": [],
   "source": [
    "Week_0_5.fillna(0,inplace=True)"
   ]
  },
  {
   "cell_type": "code",
   "execution_count": 32,
   "metadata": {},
   "outputs": [],
   "source": [
    "Week_0_5['TotalRevenue']=Week_0_5['Revenue_1'] + Week_0_5['Revenue_2'] + Week_0_5['Revenue_3'] + Week_0_5['Revenue_4'] + Week_0_5['Revenue_5']"
   ]
  },
  {
   "cell_type": "code",
   "execution_count": 33,
   "metadata": {},
   "outputs": [
    {
     "data": {
      "text/html": [
       "<div>\n",
       "<style scoped>\n",
       "    .dataframe tbody tr th:only-of-type {\n",
       "        vertical-align: middle;\n",
       "    }\n",
       "\n",
       "    .dataframe tbody tr th {\n",
       "        vertical-align: top;\n",
       "    }\n",
       "\n",
       "    .dataframe thead th {\n",
       "        text-align: right;\n",
       "    }\n",
       "</style>\n",
       "<table border=\"1\" class=\"dataframe\">\n",
       "  <thead>\n",
       "    <tr style=\"text-align: right;\">\n",
       "      <th></th>\n",
       "      <th>CustomerId</th>\n",
       "      <th>Mean_1</th>\n",
       "      <th>Max_1</th>\n",
       "      <th>Min_1</th>\n",
       "      <th>Count_1</th>\n",
       "      <th>StandardDeviation_1</th>\n",
       "      <th>Revenue_1</th>\n",
       "      <th>Mean_2</th>\n",
       "      <th>Max_2</th>\n",
       "      <th>Min_2</th>\n",
       "      <th>...</th>\n",
       "      <th>Count_4</th>\n",
       "      <th>StandardDeviation_4</th>\n",
       "      <th>Revenue_4</th>\n",
       "      <th>Mean_5</th>\n",
       "      <th>Max_5</th>\n",
       "      <th>Min_5</th>\n",
       "      <th>Count_5</th>\n",
       "      <th>StandardDeviation_5</th>\n",
       "      <th>Revenue_5</th>\n",
       "      <th>TotalRevenue</th>\n",
       "    </tr>\n",
       "  </thead>\n",
       "  <tbody>\n",
       "    <tr>\n",
       "      <th>0</th>\n",
       "      <td>7260</td>\n",
       "      <td>171.20</td>\n",
       "      <td>171.20</td>\n",
       "      <td>171.20</td>\n",
       "      <td>1.0</td>\n",
       "      <td>0.0</td>\n",
       "      <td>171.20</td>\n",
       "      <td>128.4</td>\n",
       "      <td>85.60</td>\n",
       "      <td>171.20</td>\n",
       "      <td>...</td>\n",
       "      <td>3.0</td>\n",
       "      <td>19.768473</td>\n",
       "      <td>445.12</td>\n",
       "      <td>145.52</td>\n",
       "      <td>68.48</td>\n",
       "      <td>171.20</td>\n",
       "      <td>4.0</td>\n",
       "      <td>51.360000</td>\n",
       "      <td>582.08</td>\n",
       "      <td>1968.80</td>\n",
       "    </tr>\n",
       "    <tr>\n",
       "      <th>1</th>\n",
       "      <td>11024</td>\n",
       "      <td>68.48</td>\n",
       "      <td>68.48</td>\n",
       "      <td>68.48</td>\n",
       "      <td>1.0</td>\n",
       "      <td>0.0</td>\n",
       "      <td>68.48</td>\n",
       "      <td>85.6</td>\n",
       "      <td>51.36</td>\n",
       "      <td>119.84</td>\n",
       "      <td>...</td>\n",
       "      <td>1.0</td>\n",
       "      <td>0.000000</td>\n",
       "      <td>51.36</td>\n",
       "      <td>59.92</td>\n",
       "      <td>51.36</td>\n",
       "      <td>68.48</td>\n",
       "      <td>2.0</td>\n",
       "      <td>12.105668</td>\n",
       "      <td>119.84</td>\n",
       "      <td>564.96</td>\n",
       "    </tr>\n",
       "    <tr>\n",
       "      <th>2</th>\n",
       "      <td>12476</td>\n",
       "      <td>51.36</td>\n",
       "      <td>51.36</td>\n",
       "      <td>51.36</td>\n",
       "      <td>1.0</td>\n",
       "      <td>0.0</td>\n",
       "      <td>51.36</td>\n",
       "      <td>0.0</td>\n",
       "      <td>0.00</td>\n",
       "      <td>0.00</td>\n",
       "      <td>...</td>\n",
       "      <td>1.0</td>\n",
       "      <td>0.000000</td>\n",
       "      <td>51.36</td>\n",
       "      <td>0.00</td>\n",
       "      <td>0.00</td>\n",
       "      <td>0.00</td>\n",
       "      <td>0.0</td>\n",
       "      <td>0.000000</td>\n",
       "      <td>0.00</td>\n",
       "      <td>154.08</td>\n",
       "    </tr>\n",
       "    <tr>\n",
       "      <th>3</th>\n",
       "      <td>14156</td>\n",
       "      <td>171.20</td>\n",
       "      <td>171.20</td>\n",
       "      <td>171.20</td>\n",
       "      <td>1.0</td>\n",
       "      <td>0.0</td>\n",
       "      <td>171.20</td>\n",
       "      <td>171.2</td>\n",
       "      <td>171.20</td>\n",
       "      <td>171.20</td>\n",
       "      <td>...</td>\n",
       "      <td>1.0</td>\n",
       "      <td>0.000000</td>\n",
       "      <td>171.20</td>\n",
       "      <td>171.20</td>\n",
       "      <td>171.20</td>\n",
       "      <td>171.20</td>\n",
       "      <td>1.0</td>\n",
       "      <td>0.000000</td>\n",
       "      <td>171.20</td>\n",
       "      <td>770.40</td>\n",
       "    </tr>\n",
       "    <tr>\n",
       "      <th>4</th>\n",
       "      <td>17606</td>\n",
       "      <td>171.20</td>\n",
       "      <td>171.20</td>\n",
       "      <td>171.20</td>\n",
       "      <td>1.0</td>\n",
       "      <td>0.0</td>\n",
       "      <td>171.20</td>\n",
       "      <td>0.0</td>\n",
       "      <td>0.00</td>\n",
       "      <td>0.00</td>\n",
       "      <td>...</td>\n",
       "      <td>0.0</td>\n",
       "      <td>0.000000</td>\n",
       "      <td>0.00</td>\n",
       "      <td>171.20</td>\n",
       "      <td>171.20</td>\n",
       "      <td>171.20</td>\n",
       "      <td>1.0</td>\n",
       "      <td>0.000000</td>\n",
       "      <td>171.20</td>\n",
       "      <td>342.40</td>\n",
       "    </tr>\n",
       "  </tbody>\n",
       "</table>\n",
       "<p>5 rows × 32 columns</p>\n",
       "</div>"
      ],
      "text/plain": [
       "   CustomerId  Mean_1   Max_1   Min_1  Count_1  StandardDeviation_1  \\\n",
       "0        7260  171.20  171.20  171.20      1.0                  0.0   \n",
       "1       11024   68.48   68.48   68.48      1.0                  0.0   \n",
       "2       12476   51.36   51.36   51.36      1.0                  0.0   \n",
       "3       14156  171.20  171.20  171.20      1.0                  0.0   \n",
       "4       17606  171.20  171.20  171.20      1.0                  0.0   \n",
       "\n",
       "   Revenue_1  Mean_2   Max_2   Min_2  ...  Count_4  StandardDeviation_4  \\\n",
       "0     171.20   128.4   85.60  171.20  ...      3.0            19.768473   \n",
       "1      68.48    85.6   51.36  119.84  ...      1.0             0.000000   \n",
       "2      51.36     0.0    0.00    0.00  ...      1.0             0.000000   \n",
       "3     171.20   171.2  171.20  171.20  ...      1.0             0.000000   \n",
       "4     171.20     0.0    0.00    0.00  ...      0.0             0.000000   \n",
       "\n",
       "   Revenue_4  Mean_5   Max_5   Min_5  Count_5  StandardDeviation_5  Revenue_5  \\\n",
       "0     445.12  145.52   68.48  171.20      4.0            51.360000     582.08   \n",
       "1      51.36   59.92   51.36   68.48      2.0            12.105668     119.84   \n",
       "2      51.36    0.00    0.00    0.00      0.0             0.000000       0.00   \n",
       "3     171.20  171.20  171.20  171.20      1.0             0.000000     171.20   \n",
       "4       0.00  171.20  171.20  171.20      1.0             0.000000     171.20   \n",
       "\n",
       "   TotalRevenue  \n",
       "0       1968.80  \n",
       "1        564.96  \n",
       "2        154.08  \n",
       "3        770.40  \n",
       "4        342.40  \n",
       "\n",
       "[5 rows x 32 columns]"
      ]
     },
     "execution_count": 33,
     "metadata": {},
     "output_type": "execute_result"
    }
   ],
   "source": [
    "Week_0_5.head()"
   ]
  },
  {
   "cell_type": "code",
   "execution_count": 74,
   "metadata": {},
   "outputs": [],
   "source": [
    "Week_0_5.to_csv('FinalData.csv')"
   ]
  }
 ],
 "metadata": {
  "kernelspec": {
   "display_name": "Python 3",
   "language": "python",
   "name": "python3"
  },
  "language_info": {
   "codemirror_mode": {
    "name": "ipython",
    "version": 3
   },
   "file_extension": ".py",
   "mimetype": "text/x-python",
   "name": "python",
   "nbconvert_exporter": "python",
   "pygments_lexer": "ipython3",
   "version": "3.6.8"
  }
 },
 "nbformat": 4,
 "nbformat_minor": 2
}
